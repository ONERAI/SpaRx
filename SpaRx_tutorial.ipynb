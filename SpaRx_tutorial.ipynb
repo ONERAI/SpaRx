{
 "cells": [
  {
   "cell_type": "markdown",
   "id": "47ec3cfd",
   "metadata": {},
   "source": [
    "## Import Python Library\n",
    "1. You may need to install torch_geometric and the corresponding packages. Please run pip install requirements.txt first\n",
    "2. If you are installing it for the first time, it will take a while\n",
    "3. We are using a nvidia GPU for our experiment."
   ]
  },
  {
   "cell_type": "code",
   "execution_count": 1,
   "id": "efa97720",
   "metadata": {},
   "outputs": [],
   "source": [
    "import torch\n",
    "import os\n",
    "import math\n",
    "import numpy as np\n",
    "import pandas as pd\n",
    "import yaml\n",
    "from utils.helper import print_loss_stat, seed_everything, eval_results"
   ]
  },
  {
   "cell_type": "code",
   "execution_count": 2,
   "id": "f7427090",
   "metadata": {},
   "outputs": [],
   "source": [
    "from loader import load_data, load_unsuper_data\n",
    "from model import TLModel\n",
    "from tqdm import tqdm"
   ]
  },
  {
   "cell_type": "markdown",
   "id": "4eed8dc2",
   "metadata": {},
   "source": [
    "### prepare data\n",
    "1. We have upload the dataset in the google drive: [here](https://drive.google.com/drive/folders/1ps7xXsIONxvUJu9nOvD_9_hl9W9aI3V7?usp=drive_link)\n",
    "2. We didn't include the dataset into our github repo because of the size issue\n"
   ]
  },
  {
   "cell_type": "markdown",
   "id": "0275bab8",
   "metadata": {},
   "source": [
    "### Define the yaml file\n",
    "+ **Dataset**, Put the data into the datasets\n",
    "+ **Model**:\n",
    "    + Input_Dim: is related with the dataset\n",
    "    + Conv: define the graph Convolution method. Specifically, please choose “TransformerConv” for running the SpaRx model, “GATConv” for the SpaRx-GAT, and “GCNConv” for the SpaRx-GCN model \n",
    "    + NUM_HIDDENS: the hidden dims for the first layer and the second layer\n",
    "    + num_classes: 2 categories, one for the source, another for the target"
   ]
  },
  {
   "cell_type": "code",
   "execution_count": 3,
   "id": "a13df845",
   "metadata": {},
   "outputs": [],
   "source": [
    "yaml_file = 'configure_default.yml'\n",
    "with open(yaml_file) as f:\n",
    "    cfg = yaml.load(f, Loader=yaml.FullLoader)\n",
    "\n",
    "seed_everything(cfg['SEED'])"
   ]
  },
  {
   "cell_type": "markdown",
   "id": "facc5885",
   "metadata": {},
   "source": [
    "### train the transfer model\n",
    "Define the settings in the yaml file:\n",
    "\n",
    "+ **lr:**: the learning rate\n",
    "+ **Epochs:** training epochs\n",
    "+ **Save_path:** the checkpoint path\n",
    "+ **Momentum** and **Weight_dacay**: parameters for the Adam Optimizer\n",
    "+ **grad_clip:** clip the gradient when it was too large\n",
    "\n"
   ]
  },
  {
   "cell_type": "code",
   "execution_count": 4,
   "id": "52f1fdfc",
   "metadata": {},
   "outputs": [],
   "source": [
    "def train(cfg):\n",
    "    # build data\n",
    "    src_data_root = cfg['DATASET']['Source_data_root']\n",
    "    src_label_root = cfg['DATASET']['Source_label_root']\n",
    "    src_adj_root = cfg['DATASET']['Source_adj_root']\n",
    "\n",
    "    src, src_train_idx, src_test_idx = load_data(root=src_data_root,\n",
    "                                    adj_root=src_adj_root,\n",
    "                                    label_root=src_label_root,\n",
    "                                    num_val=0.2, random_state=cfg['SEED'])\n",
    "    \n",
    "    tar_data_root = cfg['DATASET']['target_data_root']\n",
    "    tar_label_root = cfg['DATASET']['target_label_root']\n",
    "    tar_adj_root = cfg['DATASET']['target_adj_root']\n",
    "    tar = load_unsuper_data(root=tar_data_root,\n",
    "                            adj_root=tar_adj_root,\n",
    "                            label_root=tar_label_root)\n",
    "\n",
    "    best_loss = 10000000\n",
    "    best_f1 = 0\n",
    "    best_epoch = 0\n",
    "    # # build up model\n",
    "    model = TLModel(cfg)\n",
    "    for epoch in tqdm(range(cfg['TRAIN']['Epochs'])):\n",
    "        # print('best_F1 is %f in Epoch %d' %(best_f1, best_epoch))\n",
    "        model.set_input(src, tar)\n",
    "        model.update_parameters()\n",
    "        loss_stat = model.get_current_loss()\n",
    "        loss = loss_stat['overall_loss'].item()\n",
    "\n",
    "        # print_loss_stat(loss_stat, epoch, cfg['TRAIN']['Epochs'])\n",
    "\n",
    "        f1 = val(cfg, model, tar)\n",
    "        print(f1)\n",
    "        if best_f1 < f1:\n",
    "            model.save('best_f1')\n",
    "            best_f1 = f1\n",
    "            best_epoch = epoch\n",
    "        if best_loss > loss:\n",
    "            model.save('best_loss')\n",
    "            best_loss = loss\n",
    "            best_epoch = epoch\n",
    "    model.save(\"last\")\n",
    "    #src_emb, tar_emb = model.get_emb()\n",
    "    f1 = val(cfg, model, tar)\n",
    "    print('f1 is %.4f'%(f1))"
   ]
  },
  {
   "cell_type": "code",
   "execution_count": 5,
   "id": "6fb32916",
   "metadata": {},
   "outputs": [],
   "source": [
    "@torch.no_grad()\n",
    "def val(cfg, model, tar):\n",
    "    model.set_input(tar, tar)\n",
    "    pred = model.inference()\n",
    "    pred = pred.detach().cpu()\n",
    "    label = tar.y.detach().cpu()\n",
    "\n",
    "    f1 = eval_results(pred, label, cfg['TEST']['Verbose'])\n",
    "    print(\"f1 is %.4f\"%(f1))\n",
    "    return f1"
   ]
  },
  {
   "cell_type": "markdown",
   "id": "e40d62b7",
   "metadata": {},
   "source": [
    "### training details\n",
    "We train SpaRx for 100 epochs. For the demo, we print the performance for each epoch. At the very begining (first 30 epochs), the training model didn't learn the target infos. But the performance grows gradually and the final F1 score achieved to 0.9633."
   ]
  },
  {
   "cell_type": "code",
   "execution_count": 6,
   "id": "fa04ea86",
   "metadata": {},
   "outputs": [
    {
     "name": "stdout",
     "output_type": "stream",
     "text": [
      "Using TransformerConv\n"
     ]
    },
    {
     "name": "stderr",
     "output_type": "stream",
     "text": [
      "\r",
      "  0%|                                                   | 0/100 [00:00<?, ?it/s]"
     ]
    },
    {
     "name": "stdout",
     "output_type": "stream",
     "text": [
      "\n",
      "------------------------results----------------------\n",
      "         0\t      1000\n",
      "      1000\t      1000\n",
      "      acc:\t    0.5000\n",
      "precision:\t    0.0000\n",
      "   recall:\t    0.0000\n",
      "Specificity:\t    1.0000\n",
      "Sensitivity:\t    0.0000\n",
      "F1-measure:\t       nan\n",
      "------------------------------------------------------\n",
      "\n",
      "f1 is nan\n",
      "tensor(nan)\n"
     ]
    },
    {
     "name": "stderr",
     "output_type": "stream",
     "text": [
      "  2%|▊                                          | 2/100 [00:01<01:23,  1.17it/s]"
     ]
    },
    {
     "name": "stdout",
     "output_type": "stream",
     "text": [
      "\n",
      "------------------------results----------------------\n",
      "         0\t      1000\n",
      "      1000\t      1000\n",
      "      acc:\t    0.5000\n",
      "precision:\t    0.0000\n",
      "   recall:\t    0.0000\n",
      "Specificity:\t    1.0000\n",
      "Sensitivity:\t    0.0000\n",
      "F1-measure:\t       nan\n",
      "------------------------------------------------------\n",
      "\n",
      "f1 is nan\n",
      "tensor(nan)\n"
     ]
    },
    {
     "name": "stderr",
     "output_type": "stream",
     "text": [
      "\r",
      "  3%|█▎                                         | 3/100 [00:02<00:56,  1.71it/s]"
     ]
    },
    {
     "name": "stdout",
     "output_type": "stream",
     "text": [
      "\n",
      "------------------------results----------------------\n",
      "         0\t      1000\n",
      "      1000\t      1000\n",
      "      acc:\t    0.5000\n",
      "precision:\t    0.0000\n",
      "   recall:\t    0.0000\n",
      "Specificity:\t    1.0000\n",
      "Sensitivity:\t    0.0000\n",
      "F1-measure:\t       nan\n",
      "------------------------------------------------------\n",
      "\n",
      "f1 is nan\n",
      "tensor(nan)\n",
      "\n",
      "------------------------results----------------------\n",
      "         1\t      1000\n",
      "      1000\t      1000\n",
      "      acc:\t    0.5005\n",
      "precision:\t    1.0000\n",
      "   recall:\t    0.0010\n",
      "Specificity:\t    1.0000\n",
      "Sensitivity:\t    0.0010\n",
      "F1-measure:\t    0.0020\n",
      "------------------------------------------------------\n",
      "\n",
      "f1 is 0.0020\n",
      "tensor(0.0020)\n"
     ]
    },
    {
     "name": "stderr",
     "output_type": "stream",
     "text": [
      "\r",
      "  4%|█▋                                         | 4/100 [00:02<00:54,  1.75it/s]"
     ]
    },
    {
     "name": "stdout",
     "output_type": "stream",
     "text": [
      "\n",
      "------------------------results----------------------\n",
      "         3\t      1000\n",
      "      1000\t      1000\n",
      "      acc:\t    0.5015\n",
      "precision:\t    1.0000\n",
      "   recall:\t    0.0030\n",
      "Specificity:\t    1.0000\n",
      "Sensitivity:\t    0.0030\n",
      "F1-measure:\t    0.0060\n",
      "------------------------------------------------------\n",
      "\n",
      "f1 is 0.0060\n",
      "tensor(0.0060)\n"
     ]
    },
    {
     "name": "stderr",
     "output_type": "stream",
     "text": [
      "\r",
      "  5%|██▏                                        | 5/100 [00:03<00:52,  1.80it/s]"
     ]
    },
    {
     "name": "stdout",
     "output_type": "stream",
     "text": [
      "\n",
      "------------------------results----------------------\n",
      "         4\t      1000\n",
      "      1000\t      1000\n",
      "      acc:\t    0.5020\n",
      "precision:\t    1.0000\n",
      "   recall:\t    0.0040\n",
      "Specificity:\t    1.0000\n",
      "Sensitivity:\t    0.0040\n",
      "F1-measure:\t    0.0080\n",
      "------------------------------------------------------\n",
      "\n",
      "f1 is 0.0080\n",
      "tensor(0.0080)\n"
     ]
    },
    {
     "name": "stderr",
     "output_type": "stream",
     "text": [
      "\r",
      "  6%|██▌                                        | 6/100 [00:03<00:51,  1.81it/s]"
     ]
    },
    {
     "name": "stdout",
     "output_type": "stream",
     "text": [
      "\n",
      "------------------------results----------------------\n",
      "         5\t      1000\n",
      "      1000\t      1000\n",
      "      acc:\t    0.5025\n",
      "precision:\t    1.0000\n",
      "   recall:\t    0.0050\n",
      "Specificity:\t    1.0000\n",
      "Sensitivity:\t    0.0050\n",
      "F1-measure:\t    0.0100\n",
      "------------------------------------------------------\n",
      "\n",
      "f1 is 0.0100\n",
      "tensor(0.0100)\n"
     ]
    },
    {
     "name": "stderr",
     "output_type": "stream",
     "text": [
      "  8%|███▍                                       | 8/100 [00:04<00:42,  2.17it/s]"
     ]
    },
    {
     "name": "stdout",
     "output_type": "stream",
     "text": [
      "\n",
      "------------------------results----------------------\n",
      "         2\t      1000\n",
      "      1000\t      1000\n",
      "      acc:\t    0.5010\n",
      "precision:\t    1.0000\n",
      "   recall:\t    0.0020\n",
      "Specificity:\t    1.0000\n",
      "Sensitivity:\t    0.0020\n",
      "F1-measure:\t    0.0040\n",
      "------------------------------------------------------\n",
      "\n",
      "f1 is 0.0040\n",
      "tensor(0.0040)\n"
     ]
    },
    {
     "name": "stderr",
     "output_type": "stream",
     "text": [
      "\r",
      "  9%|███▊                                       | 9/100 [00:04<00:36,  2.48it/s]"
     ]
    },
    {
     "name": "stdout",
     "output_type": "stream",
     "text": [
      "\n",
      "------------------------results----------------------\n",
      "         1\t      1000\n",
      "      1000\t      1000\n",
      "      acc:\t    0.5005\n",
      "precision:\t    1.0000\n",
      "   recall:\t    0.0010\n",
      "Specificity:\t    1.0000\n",
      "Sensitivity:\t    0.0010\n",
      "F1-measure:\t    0.0020\n",
      "------------------------------------------------------\n",
      "\n",
      "f1 is 0.0020\n",
      "tensor(0.0020)\n"
     ]
    },
    {
     "name": "stderr",
     "output_type": "stream",
     "text": [
      "\r",
      " 10%|████▏                                     | 10/100 [00:05<00:32,  2.77it/s]"
     ]
    },
    {
     "name": "stdout",
     "output_type": "stream",
     "text": [
      "\n",
      "------------------------results----------------------\n",
      "         0\t      1000\n",
      "      1000\t      1000\n",
      "      acc:\t    0.5000\n",
      "precision:\t    0.0000\n",
      "   recall:\t    0.0000\n",
      "Specificity:\t    1.0000\n",
      "Sensitivity:\t    0.0000\n",
      "F1-measure:\t       nan\n",
      "------------------------------------------------------\n",
      "\n",
      "f1 is nan\n",
      "tensor(nan)\n"
     ]
    },
    {
     "name": "stderr",
     "output_type": "stream",
     "text": [
      "\r",
      " 11%|████▌                                     | 11/100 [00:05<00:29,  2.99it/s]"
     ]
    },
    {
     "name": "stdout",
     "output_type": "stream",
     "text": [
      "\n",
      "------------------------results----------------------\n",
      "         0\t      1000\n",
      "      1000\t      1000\n",
      "      acc:\t    0.5000\n",
      "precision:\t    0.0000\n",
      "   recall:\t    0.0000\n",
      "Specificity:\t    1.0000\n",
      "Sensitivity:\t    0.0000\n",
      "F1-measure:\t       nan\n",
      "------------------------------------------------------\n",
      "\n",
      "f1 is nan\n",
      "tensor(nan)\n"
     ]
    },
    {
     "name": "stderr",
     "output_type": "stream",
     "text": [
      "\r",
      " 12%|█████                                     | 12/100 [00:05<00:27,  3.16it/s]"
     ]
    },
    {
     "name": "stdout",
     "output_type": "stream",
     "text": [
      "\n",
      "------------------------results----------------------\n",
      "         0\t      1000\n",
      "      1000\t      1000\n",
      "      acc:\t    0.5000\n",
      "precision:\t    0.0000\n",
      "   recall:\t    0.0000\n",
      "Specificity:\t    1.0000\n",
      "Sensitivity:\t    0.0000\n",
      "F1-measure:\t       nan\n",
      "------------------------------------------------------\n",
      "\n",
      "f1 is nan\n",
      "tensor(nan)\n"
     ]
    },
    {
     "name": "stderr",
     "output_type": "stream",
     "text": [
      "\r",
      " 13%|█████▍                                    | 13/100 [00:06<00:26,  3.30it/s]"
     ]
    },
    {
     "name": "stdout",
     "output_type": "stream",
     "text": [
      "\n",
      "------------------------results----------------------\n",
      "         0\t      1000\n",
      "      1000\t      1000\n",
      "      acc:\t    0.5000\n",
      "precision:\t    0.0000\n",
      "   recall:\t    0.0000\n",
      "Specificity:\t    1.0000\n",
      "Sensitivity:\t    0.0000\n",
      "F1-measure:\t       nan\n",
      "------------------------------------------------------\n",
      "\n",
      "f1 is nan\n",
      "tensor(nan)\n",
      "\n",
      "------------------------results----------------------\n",
      "         0\t      1000\n",
      "      1000\t      1000\n",
      "      acc:\t    0.5000\n",
      "precision:\t    0.0000\n",
      "   recall:\t    0.0000\n",
      "Specificity:\t    1.0000\n",
      "Sensitivity:\t    0.0000\n",
      "F1-measure:\t       nan\n",
      "------------------------------------------------------\n",
      "\n",
      "f1 is nan\n",
      "tensor(nan)\n"
     ]
    },
    {
     "name": "stderr",
     "output_type": "stream",
     "text": [
      " 15%|██████▎                                   | 15/100 [00:06<00:29,  2.87it/s]"
     ]
    },
    {
     "name": "stdout",
     "output_type": "stream",
     "text": [
      "\n",
      "------------------------results----------------------\n",
      "         0\t      1000\n",
      "      1000\t      1000\n",
      "      acc:\t    0.5000\n",
      "precision:\t    0.0000\n",
      "   recall:\t    0.0000\n",
      "Specificity:\t    1.0000\n",
      "Sensitivity:\t    0.0000\n",
      "F1-measure:\t       nan\n",
      "------------------------------------------------------\n",
      "\n",
      "f1 is nan\n",
      "tensor(nan)\n"
     ]
    },
    {
     "name": "stderr",
     "output_type": "stream",
     "text": [
      "\r",
      " 16%|██████▋                                   | 16/100 [00:07<00:27,  3.07it/s]"
     ]
    },
    {
     "name": "stdout",
     "output_type": "stream",
     "text": [
      "\n",
      "------------------------results----------------------\n",
      "         0\t      1000\n",
      "      1000\t      1000\n",
      "      acc:\t    0.5000\n",
      "precision:\t    0.0000\n",
      "   recall:\t    0.0000\n",
      "Specificity:\t    1.0000\n",
      "Sensitivity:\t    0.0000\n",
      "F1-measure:\t       nan\n",
      "------------------------------------------------------\n",
      "\n",
      "f1 is nan\n",
      "tensor(nan)\n"
     ]
    },
    {
     "name": "stderr",
     "output_type": "stream",
     "text": [
      "\r",
      " 17%|███████▏                                  | 17/100 [00:07<00:25,  3.26it/s]"
     ]
    },
    {
     "name": "stdout",
     "output_type": "stream",
     "text": [
      "\n",
      "------------------------results----------------------\n",
      "         0\t      1000\n",
      "      1000\t      1000\n",
      "      acc:\t    0.5000\n",
      "precision:\t    0.0000\n",
      "   recall:\t    0.0000\n",
      "Specificity:\t    1.0000\n",
      "Sensitivity:\t    0.0000\n",
      "F1-measure:\t       nan\n",
      "------------------------------------------------------\n",
      "\n",
      "f1 is nan\n",
      "tensor(nan)\n"
     ]
    },
    {
     "name": "stderr",
     "output_type": "stream",
     "text": [
      "\r",
      " 18%|███████▌                                  | 18/100 [00:07<00:24,  3.35it/s]"
     ]
    },
    {
     "name": "stdout",
     "output_type": "stream",
     "text": [
      "\n",
      "------------------------results----------------------\n",
      "         0\t      1000\n",
      "      1000\t      1000\n",
      "      acc:\t    0.5000\n",
      "precision:\t    0.0000\n",
      "   recall:\t    0.0000\n",
      "Specificity:\t    1.0000\n",
      "Sensitivity:\t    0.0000\n",
      "F1-measure:\t       nan\n",
      "------------------------------------------------------\n",
      "\n",
      "f1 is nan\n",
      "tensor(nan)\n",
      "\n",
      "------------------------results----------------------\n",
      "         0\t      1000\n",
      "      1000\t      1000\n",
      "      acc:\t    0.5000\n",
      "precision:\t    0.0000\n",
      "   recall:\t    0.0000\n",
      "Specificity:\t    1.0000\n",
      "Sensitivity:\t    0.0000\n",
      "F1-measure:\t       nan\n",
      "------------------------------------------------------\n",
      "\n",
      "f1 is nan\n",
      "tensor(nan)\n"
     ]
    },
    {
     "name": "stderr",
     "output_type": "stream",
     "text": [
      " 20%|████████▍                                 | 20/100 [00:08<00:28,  2.84it/s]"
     ]
    },
    {
     "name": "stdout",
     "output_type": "stream",
     "text": [
      "\n",
      "------------------------results----------------------\n",
      "         0\t      1000\n",
      "      1000\t      1000\n",
      "      acc:\t    0.5000\n",
      "precision:\t    0.0000\n",
      "   recall:\t    0.0000\n",
      "Specificity:\t    1.0000\n",
      "Sensitivity:\t    0.0000\n",
      "F1-measure:\t       nan\n",
      "------------------------------------------------------\n",
      "\n",
      "f1 is nan\n",
      "tensor(nan)\n"
     ]
    },
    {
     "name": "stderr",
     "output_type": "stream",
     "text": [
      "\r",
      " 21%|████████▊                                 | 21/100 [00:08<00:25,  3.06it/s]"
     ]
    },
    {
     "name": "stdout",
     "output_type": "stream",
     "text": [
      "\n",
      "------------------------results----------------------\n",
      "         0\t      1000\n",
      "      1000\t      1000\n",
      "      acc:\t    0.5000\n",
      "precision:\t    0.0000\n",
      "   recall:\t    0.0000\n",
      "Specificity:\t    1.0000\n",
      "Sensitivity:\t    0.0000\n",
      "F1-measure:\t       nan\n",
      "------------------------------------------------------\n",
      "\n",
      "f1 is nan\n",
      "tensor(nan)\n"
     ]
    },
    {
     "name": "stderr",
     "output_type": "stream",
     "text": [
      "\r",
      " 22%|█████████▏                                | 22/100 [00:09<00:24,  3.25it/s]"
     ]
    },
    {
     "name": "stdout",
     "output_type": "stream",
     "text": [
      "\n",
      "------------------------results----------------------\n",
      "         0\t      1000\n",
      "      1000\t      1000\n",
      "      acc:\t    0.5000\n",
      "precision:\t    0.0000\n",
      "   recall:\t    0.0000\n",
      "Specificity:\t    1.0000\n",
      "Sensitivity:\t    0.0000\n",
      "F1-measure:\t       nan\n",
      "------------------------------------------------------\n",
      "\n",
      "f1 is nan\n",
      "tensor(nan)\n"
     ]
    },
    {
     "name": "stderr",
     "output_type": "stream",
     "text": [
      "\r",
      " 23%|█████████▋                                | 23/100 [00:09<00:22,  3.39it/s]"
     ]
    },
    {
     "name": "stdout",
     "output_type": "stream",
     "text": [
      "\n",
      "------------------------results----------------------\n",
      "         0\t      1000\n",
      "      1000\t      1000\n",
      "      acc:\t    0.5000\n",
      "precision:\t    0.0000\n",
      "   recall:\t    0.0000\n",
      "Specificity:\t    1.0000\n",
      "Sensitivity:\t    0.0000\n",
      "F1-measure:\t       nan\n",
      "------------------------------------------------------\n",
      "\n",
      "f1 is nan\n",
      "tensor(nan)\n"
     ]
    },
    {
     "name": "stderr",
     "output_type": "stream",
     "text": [
      "\r",
      " 24%|██████████                                | 24/100 [00:09<00:21,  3.50it/s]"
     ]
    },
    {
     "name": "stdout",
     "output_type": "stream",
     "text": [
      "\n",
      "------------------------results----------------------\n",
      "         1\t      1000\n",
      "      1000\t      1000\n",
      "      acc:\t    0.5005\n",
      "precision:\t    1.0000\n",
      "   recall:\t    0.0010\n",
      "Specificity:\t    1.0000\n",
      "Sensitivity:\t    0.0010\n",
      "F1-measure:\t    0.0020\n",
      "------------------------------------------------------\n",
      "\n",
      "f1 is 0.0020\n",
      "tensor(0.0020)\n",
      "\n",
      "------------------------results----------------------\n",
      "        13\t      1000\n",
      "      1000\t      1000\n",
      "      acc:\t    0.5065\n",
      "precision:\t    1.0000\n",
      "   recall:\t    0.0130\n",
      "Specificity:\t    1.0000\n",
      "Sensitivity:\t    0.0130\n",
      "F1-measure:\t    0.0257\n",
      "------------------------------------------------------\n",
      "\n",
      "f1 is 0.0257\n",
      "tensor(0.0257)\n"
     ]
    },
    {
     "name": "stderr",
     "output_type": "stream",
     "text": [
      "\r",
      " 25%|██████████▌                               | 25/100 [00:10<00:27,  2.77it/s]"
     ]
    },
    {
     "name": "stdout",
     "output_type": "stream",
     "text": [
      "\n",
      "------------------------results----------------------\n",
      "        49\t      1000\n",
      "      1000\t      1000\n",
      "      acc:\t    0.5245\n",
      "precision:\t    1.0000\n",
      "   recall:\t    0.0490\n",
      "Specificity:\t    1.0000\n",
      "Sensitivity:\t    0.0490\n",
      "F1-measure:\t    0.0934\n",
      "------------------------------------------------------\n",
      "\n",
      "f1 is 0.0934\n",
      "tensor(0.0934)\n"
     ]
    },
    {
     "name": "stderr",
     "output_type": "stream",
     "text": [
      "\r",
      " 26%|██████████▉                               | 26/100 [00:10<00:30,  2.45it/s]"
     ]
    },
    {
     "name": "stdout",
     "output_type": "stream",
     "text": [
      "\n",
      "------------------------results----------------------\n",
      "        66\t      1000\n",
      "      1000\t      1000\n",
      "      acc:\t    0.5330\n",
      "precision:\t    1.0000\n",
      "   recall:\t    0.0660\n",
      "Specificity:\t    1.0000\n",
      "Sensitivity:\t    0.0660\n",
      "F1-measure:\t    0.1238\n",
      "------------------------------------------------------\n",
      "\n",
      "f1 is 0.1238\n",
      "tensor(0.1238)\n"
     ]
    },
    {
     "name": "stderr",
     "output_type": "stream",
     "text": [
      "\r",
      " 27%|███████████▎                              | 27/100 [00:11<00:32,  2.23it/s]"
     ]
    },
    {
     "name": "stdout",
     "output_type": "stream",
     "text": [
      "\n",
      "------------------------results----------------------\n",
      "        72\t      1000\n",
      "      1000\t      1000\n",
      "      acc:\t    0.5360\n",
      "precision:\t    1.0000\n",
      "   recall:\t    0.0720\n",
      "Specificity:\t    1.0000\n",
      "Sensitivity:\t    0.0720\n",
      "F1-measure:\t    0.1343\n",
      "------------------------------------------------------\n",
      "\n",
      "f1 is 0.1343\n",
      "tensor(0.1343)\n"
     ]
    },
    {
     "name": "stderr",
     "output_type": "stream",
     "text": [
      " 29%|████████████▏                             | 29/100 [00:12<00:33,  2.15it/s]"
     ]
    },
    {
     "name": "stdout",
     "output_type": "stream",
     "text": [
      "\n",
      "------------------------results----------------------\n",
      "        62\t      1000\n",
      "      1000\t      1000\n",
      "      acc:\t    0.5310\n",
      "precision:\t    1.0000\n",
      "   recall:\t    0.0620\n",
      "Specificity:\t    1.0000\n",
      "Sensitivity:\t    0.0620\n",
      "F1-measure:\t    0.1168\n",
      "------------------------------------------------------\n",
      "\n",
      "f1 is 0.1168\n",
      "tensor(0.1168)\n"
     ]
    },
    {
     "name": "stderr",
     "output_type": "stream",
     "text": [
      "\r",
      " 30%|████████████▌                             | 30/100 [00:12<00:28,  2.46it/s]"
     ]
    },
    {
     "name": "stdout",
     "output_type": "stream",
     "text": [
      "\n",
      "------------------------results----------------------\n",
      "        32\t      1000\n",
      "      1000\t      1000\n",
      "      acc:\t    0.5160\n",
      "precision:\t    1.0000\n",
      "   recall:\t    0.0320\n",
      "Specificity:\t    1.0000\n",
      "Sensitivity:\t    0.0320\n",
      "F1-measure:\t    0.0620\n",
      "------------------------------------------------------\n",
      "\n",
      "f1 is 0.0620\n",
      "tensor(0.0620)\n"
     ]
    },
    {
     "name": "stderr",
     "output_type": "stream",
     "text": [
      "\r",
      " 31%|█████████████                             | 31/100 [00:12<00:25,  2.75it/s]"
     ]
    },
    {
     "name": "stdout",
     "output_type": "stream",
     "text": [
      "\n",
      "------------------------results----------------------\n",
      "         7\t      1000\n",
      "      1000\t      1000\n",
      "      acc:\t    0.5035\n",
      "precision:\t    1.0000\n",
      "   recall:\t    0.0070\n",
      "Specificity:\t    1.0000\n",
      "Sensitivity:\t    0.0070\n",
      "F1-measure:\t    0.0139\n",
      "------------------------------------------------------\n",
      "\n",
      "f1 is 0.0139\n",
      "tensor(0.0139)\n"
     ]
    },
    {
     "name": "stderr",
     "output_type": "stream",
     "text": [
      "\r",
      " 32%|█████████████▍                            | 32/100 [00:13<00:22,  2.96it/s]"
     ]
    },
    {
     "name": "stdout",
     "output_type": "stream",
     "text": [
      "\n",
      "------------------------results----------------------\n",
      "         2\t      1000\n",
      "      1000\t      1000\n",
      "      acc:\t    0.5010\n",
      "precision:\t    1.0000\n",
      "   recall:\t    0.0020\n",
      "Specificity:\t    1.0000\n",
      "Sensitivity:\t    0.0020\n",
      "F1-measure:\t    0.0040\n",
      "------------------------------------------------------\n",
      "\n",
      "f1 is 0.0040\n",
      "tensor(0.0040)\n"
     ]
    },
    {
     "name": "stderr",
     "output_type": "stream",
     "text": [
      "\r",
      " 33%|█████████████▊                            | 33/100 [00:13<00:21,  3.15it/s]"
     ]
    },
    {
     "name": "stdout",
     "output_type": "stream",
     "text": [
      "\n",
      "------------------------results----------------------\n",
      "         1\t      1000\n",
      "      1000\t      1000\n",
      "      acc:\t    0.5005\n",
      "precision:\t    1.0000\n",
      "   recall:\t    0.0010\n",
      "Specificity:\t    1.0000\n",
      "Sensitivity:\t    0.0010\n",
      "F1-measure:\t    0.0020\n",
      "------------------------------------------------------\n",
      "\n",
      "f1 is 0.0020\n",
      "tensor(0.0020)\n"
     ]
    },
    {
     "name": "stderr",
     "output_type": "stream",
     "text": [
      "\r",
      " 34%|██████████████▎                           | 34/100 [00:13<00:19,  3.31it/s]"
     ]
    },
    {
     "name": "stdout",
     "output_type": "stream",
     "text": [
      "\n",
      "------------------------results----------------------\n",
      "         9\t      1000\n",
      "      1000\t      1000\n",
      "      acc:\t    0.5045\n",
      "precision:\t    1.0000\n",
      "   recall:\t    0.0090\n",
      "Specificity:\t    1.0000\n",
      "Sensitivity:\t    0.0090\n",
      "F1-measure:\t    0.0178\n",
      "------------------------------------------------------\n",
      "\n",
      "f1 is 0.0178\n",
      "tensor(0.0178)\n"
     ]
    },
    {
     "name": "stderr",
     "output_type": "stream",
     "text": [
      "\r",
      " 35%|██████████████▋                           | 35/100 [00:13<00:18,  3.45it/s]"
     ]
    },
    {
     "name": "stdout",
     "output_type": "stream",
     "text": [
      "\n",
      "------------------------results----------------------\n",
      "        25\t      1000\n",
      "       999\t      1000\n",
      "      acc:\t    0.5120\n",
      "precision:\t    0.9615\n",
      "   recall:\t    0.0250\n",
      "Specificity:\t    0.9990\n",
      "Sensitivity:\t    0.0250\n",
      "F1-measure:\t    0.0487\n",
      "------------------------------------------------------\n",
      "\n",
      "f1 is 0.0487\n",
      "tensor(0.0487)\n"
     ]
    },
    {
     "name": "stderr",
     "output_type": "stream",
     "text": [
      "\r",
      " 36%|███████████████                           | 36/100 [00:14<00:18,  3.53it/s]"
     ]
    },
    {
     "name": "stdout",
     "output_type": "stream",
     "text": [
      "\n",
      "------------------------results----------------------\n",
      "        48\t      1000\n",
      "       999\t      1000\n",
      "      acc:\t    0.5235\n",
      "precision:\t    0.9796\n",
      "   recall:\t    0.0480\n",
      "Specificity:\t    0.9990\n",
      "Sensitivity:\t    0.0480\n",
      "F1-measure:\t    0.0915\n",
      "------------------------------------------------------\n",
      "\n",
      "f1 is 0.0915\n",
      "tensor(0.0915)\n",
      "\n",
      "------------------------results----------------------\n",
      "        78\t      1000\n",
      "      1000\t      1000\n",
      "      acc:\t    0.5390\n",
      "precision:\t    1.0000\n",
      "   recall:\t    0.0780\n",
      "Specificity:\t    1.0000\n",
      "Sensitivity:\t    0.0780\n",
      "F1-measure:\t    0.1447\n",
      "------------------------------------------------------\n",
      "\n",
      "f1 is 0.1447\n",
      "tensor(0.1447)\n"
     ]
    },
    {
     "name": "stderr",
     "output_type": "stream",
     "text": [
      "\r",
      " 37%|███████████████▌                          | 37/100 [00:14<00:23,  2.63it/s]"
     ]
    },
    {
     "name": "stdout",
     "output_type": "stream",
     "text": [
      "\n",
      "------------------------results----------------------\n",
      "       102\t      1000\n",
      "      1000\t      1000\n",
      "      acc:\t    0.5510\n",
      "precision:\t    1.0000\n",
      "   recall:\t    0.1020\n",
      "Specificity:\t    1.0000\n",
      "Sensitivity:\t    0.1020\n",
      "F1-measure:\t    0.1851\n",
      "------------------------------------------------------\n",
      "\n",
      "f1 is 0.1851\n",
      "tensor(0.1851)\n"
     ]
    },
    {
     "name": "stderr",
     "output_type": "stream",
     "text": [
      "\r",
      " 38%|███████████████▉                          | 38/100 [00:15<00:27,  2.24it/s]"
     ]
    },
    {
     "name": "stdout",
     "output_type": "stream",
     "text": [
      "\n",
      "------------------------results----------------------\n",
      "       113\t      1000\n",
      "      1000\t      1000\n",
      "      acc:\t    0.5565\n",
      "precision:\t    1.0000\n",
      "   recall:\t    0.1130\n",
      "Specificity:\t    1.0000\n",
      "Sensitivity:\t    0.1130\n",
      "F1-measure:\t    0.2031\n",
      "------------------------------------------------------\n",
      "\n",
      "f1 is 0.2031\n",
      "tensor(0.2031)\n"
     ]
    },
    {
     "name": "stderr",
     "output_type": "stream",
     "text": [
      " 40%|████████████████▊                         | 40/100 [00:16<00:25,  2.38it/s]"
     ]
    },
    {
     "name": "stdout",
     "output_type": "stream",
     "text": [
      "\n",
      "------------------------results----------------------\n",
      "        97\t      1000\n",
      "       999\t      1000\n",
      "      acc:\t    0.5480\n",
      "precision:\t    0.9898\n",
      "   recall:\t    0.0970\n",
      "Specificity:\t    0.9990\n",
      "Sensitivity:\t    0.0970\n",
      "F1-measure:\t    0.1767\n",
      "------------------------------------------------------\n",
      "\n",
      "f1 is 0.1767\n",
      "tensor(0.1767)\n"
     ]
    },
    {
     "name": "stderr",
     "output_type": "stream",
     "text": [
      "\r",
      " 41%|█████████████████▏                        | 41/100 [00:16<00:22,  2.66it/s]"
     ]
    },
    {
     "name": "stdout",
     "output_type": "stream",
     "text": [
      "\n",
      "------------------------results----------------------\n",
      "        91\t      1000\n",
      "       999\t      1000\n",
      "      acc:\t    0.5450\n",
      "precision:\t    0.9891\n",
      "   recall:\t    0.0910\n",
      "Specificity:\t    0.9990\n",
      "Sensitivity:\t    0.0910\n",
      "F1-measure:\t    0.1667\n",
      "------------------------------------------------------\n",
      "\n",
      "f1 is 0.1667\n",
      "tensor(0.1667)\n"
     ]
    },
    {
     "name": "stderr",
     "output_type": "stream",
     "text": [
      "\r",
      " 42%|█████████████████▋                        | 42/100 [00:16<00:19,  2.91it/s]"
     ]
    },
    {
     "name": "stdout",
     "output_type": "stream",
     "text": [
      "\n",
      "------------------------results----------------------\n",
      "        87\t      1000\n",
      "       997\t      1000\n",
      "      acc:\t    0.5420\n",
      "precision:\t    0.9667\n",
      "   recall:\t    0.0870\n",
      "Specificity:\t    0.9970\n",
      "Sensitivity:\t    0.0870\n",
      "F1-measure:\t    0.1596\n",
      "------------------------------------------------------\n",
      "\n",
      "f1 is 0.1596\n",
      "tensor(0.1596)\n"
     ]
    },
    {
     "name": "stderr",
     "output_type": "stream",
     "text": [
      "\r",
      " 43%|██████████████████                        | 43/100 [00:16<00:18,  3.08it/s]"
     ]
    },
    {
     "name": "stdout",
     "output_type": "stream",
     "text": [
      "\n",
      "------------------------results----------------------\n",
      "        83\t      1000\n",
      "       998\t      1000\n",
      "      acc:\t    0.5405\n",
      "precision:\t    0.9765\n",
      "   recall:\t    0.0830\n",
      "Specificity:\t    0.9980\n",
      "Sensitivity:\t    0.0830\n",
      "F1-measure:\t    0.1530\n",
      "------------------------------------------------------\n",
      "\n",
      "f1 is 0.1530\n",
      "tensor(0.1530)\n"
     ]
    },
    {
     "name": "stderr",
     "output_type": "stream",
     "text": [
      "\r",
      " 44%|██████████████████▍                       | 44/100 [00:17<00:17,  3.24it/s]"
     ]
    },
    {
     "name": "stdout",
     "output_type": "stream",
     "text": [
      "\n",
      "------------------------results----------------------\n",
      "       100\t      1000\n",
      "       999\t      1000\n",
      "      acc:\t    0.5495\n",
      "precision:\t    0.9901\n",
      "   recall:\t    0.1000\n",
      "Specificity:\t    0.9990\n",
      "Sensitivity:\t    0.1000\n",
      "F1-measure:\t    0.1817\n",
      "------------------------------------------------------\n",
      "\n",
      "f1 is 0.1817\n",
      "tensor(0.1817)\n",
      "\n",
      "------------------------results----------------------\n",
      "       150\t      1000\n",
      "       999\t      1000\n",
      "      acc:\t    0.5745\n",
      "precision:\t    0.9934\n",
      "   recall:\t    0.1500\n",
      "Specificity:\t    0.9990\n",
      "Sensitivity:\t    0.1500\n",
      "F1-measure:\t    0.2606\n",
      "------------------------------------------------------\n",
      "\n",
      "f1 is 0.2606\n",
      "tensor(0.2606)\n"
     ]
    },
    {
     "name": "stderr",
     "output_type": "stream",
     "text": [
      "\r",
      " 45%|██████████████████▉                       | 45/100 [00:17<00:20,  2.65it/s]"
     ]
    },
    {
     "name": "stdout",
     "output_type": "stream",
     "text": [
      "\n",
      "------------------------results----------------------\n",
      "       196\t      1000\n",
      "       999\t      1000\n",
      "      acc:\t    0.5975\n",
      "precision:\t    0.9949\n",
      "   recall:\t    0.1960\n",
      "Specificity:\t    0.9990\n",
      "Sensitivity:\t    0.1960\n",
      "F1-measure:\t    0.3275\n",
      "------------------------------------------------------\n",
      "\n",
      "f1 is 0.3275\n",
      "tensor(0.3275)\n"
     ]
    },
    {
     "name": "stderr",
     "output_type": "stream",
     "text": [
      "\r",
      " 46%|███████████████████▎                      | 46/100 [00:18<00:22,  2.38it/s]"
     ]
    },
    {
     "name": "stdout",
     "output_type": "stream",
     "text": [
      "\n",
      "------------------------results----------------------\n",
      "       246\t      1000\n",
      "       999\t      1000\n",
      "      acc:\t    0.6225\n",
      "precision:\t    0.9960\n",
      "   recall:\t    0.2460\n",
      "Specificity:\t    0.9990\n",
      "Sensitivity:\t    0.2460\n",
      "F1-measure:\t    0.3945\n",
      "------------------------------------------------------\n",
      "\n",
      "f1 is 0.3945\n",
      "tensor(0.3945)\n"
     ]
    },
    {
     "name": "stderr",
     "output_type": "stream",
     "text": [
      "\r",
      " 47%|███████████████████▋                      | 47/100 [00:18<00:23,  2.23it/s]"
     ]
    },
    {
     "name": "stdout",
     "output_type": "stream",
     "text": [
      "\n",
      "------------------------results----------------------\n",
      "       268\t      1000\n",
      "       999\t      1000\n",
      "      acc:\t    0.6335\n",
      "precision:\t    0.9963\n",
      "   recall:\t    0.2680\n",
      "Specificity:\t    0.9990\n",
      "Sensitivity:\t    0.2680\n",
      "F1-measure:\t    0.4224\n",
      "------------------------------------------------------\n",
      "\n",
      "f1 is 0.4224\n",
      "tensor(0.4224)\n"
     ]
    },
    {
     "name": "stderr",
     "output_type": "stream",
     "text": [
      " 49%|████████████████████▌                     | 49/100 [00:19<00:23,  2.15it/s]"
     ]
    },
    {
     "name": "stdout",
     "output_type": "stream",
     "text": [
      "\n",
      "------------------------results----------------------\n",
      "       235\t      1000\n",
      "       999\t      1000\n",
      "      acc:\t    0.6170\n",
      "precision:\t    0.9958\n",
      "   recall:\t    0.2350\n",
      "Specificity:\t    0.9990\n",
      "Sensitivity:\t    0.2350\n",
      "F1-measure:\t    0.3803\n",
      "------------------------------------------------------\n",
      "\n",
      "f1 is 0.3803\n",
      "tensor(0.3803)\n"
     ]
    },
    {
     "name": "stderr",
     "output_type": "stream",
     "text": [
      "\r",
      " 50%|█████████████████████                     | 50/100 [00:20<00:20,  2.46it/s]"
     ]
    },
    {
     "name": "stdout",
     "output_type": "stream",
     "text": [
      "\n",
      "------------------------results----------------------\n",
      "       202\t      1000\n",
      "       998\t      1000\n",
      "      acc:\t    0.6000\n",
      "precision:\t    0.9902\n",
      "   recall:\t    0.2020\n",
      "Specificity:\t    0.9980\n",
      "Sensitivity:\t    0.2020\n",
      "F1-measure:\t    0.3355\n",
      "------------------------------------------------------\n",
      "\n",
      "f1 is 0.3355\n",
      "tensor(0.3355)\n"
     ]
    },
    {
     "name": "stderr",
     "output_type": "stream",
     "text": [
      "\r",
      " 51%|█████████████████████▍                    | 51/100 [00:20<00:17,  2.73it/s]"
     ]
    },
    {
     "name": "stdout",
     "output_type": "stream",
     "text": [
      "\n",
      "------------------------results----------------------\n",
      "       165\t      1000\n",
      "       998\t      1000\n",
      "      acc:\t    0.5815\n",
      "precision:\t    0.9880\n",
      "   recall:\t    0.1650\n",
      "Specificity:\t    0.9980\n",
      "Sensitivity:\t    0.1650\n",
      "F1-measure:\t    0.2828\n",
      "------------------------------------------------------\n",
      "\n",
      "f1 is 0.2828\n",
      "tensor(0.2828)\n"
     ]
    },
    {
     "name": "stderr",
     "output_type": "stream",
     "text": [
      "\r",
      " 52%|█████████████████████▊                    | 52/100 [00:20<00:16,  2.96it/s]"
     ]
    },
    {
     "name": "stdout",
     "output_type": "stream",
     "text": [
      "\n",
      "------------------------results----------------------\n",
      "       183\t      1000\n",
      "       998\t      1000\n",
      "      acc:\t    0.5905\n",
      "precision:\t    0.9892\n",
      "   recall:\t    0.1830\n",
      "Specificity:\t    0.9980\n",
      "Sensitivity:\t    0.1830\n",
      "F1-measure:\t    0.3089\n",
      "------------------------------------------------------\n",
      "\n",
      "f1 is 0.3089\n",
      "tensor(0.3089)\n"
     ]
    },
    {
     "name": "stderr",
     "output_type": "stream",
     "text": [
      "\r",
      " 53%|██████████████████████▎                   | 53/100 [00:20<00:14,  3.16it/s]"
     ]
    },
    {
     "name": "stdout",
     "output_type": "stream",
     "text": [
      "\n",
      "------------------------results----------------------\n",
      "       158\t      1000\n",
      "      1000\t      1000\n",
      "      acc:\t    0.5790\n",
      "precision:\t    1.0000\n",
      "   recall:\t    0.1580\n",
      "Specificity:\t    1.0000\n",
      "Sensitivity:\t    0.1580\n",
      "F1-measure:\t    0.2729\n",
      "------------------------------------------------------\n",
      "\n",
      "f1 is 0.2729\n",
      "tensor(0.2729)\n"
     ]
    },
    {
     "name": "stderr",
     "output_type": "stream",
     "text": [
      "\r",
      " 54%|██████████████████████▋                   | 54/100 [00:21<00:13,  3.33it/s]"
     ]
    },
    {
     "name": "stdout",
     "output_type": "stream",
     "text": [
      "\n",
      "------------------------results----------------------\n",
      "       122\t      1000\n",
      "      1000\t      1000\n",
      "      acc:\t    0.5610\n",
      "precision:\t    1.0000\n",
      "   recall:\t    0.1220\n",
      "Specificity:\t    1.0000\n",
      "Sensitivity:\t    0.1220\n",
      "F1-measure:\t    0.2175\n",
      "------------------------------------------------------\n",
      "\n",
      "f1 is 0.2175\n",
      "tensor(0.2175)\n"
     ]
    },
    {
     "name": "stderr",
     "output_type": "stream",
     "text": [
      "\r",
      " 55%|███████████████████████                   | 55/100 [00:21<00:13,  3.43it/s]"
     ]
    },
    {
     "name": "stdout",
     "output_type": "stream",
     "text": [
      "\n",
      "------------------------results----------------------\n",
      "       110\t      1000\n",
      "      1000\t      1000\n",
      "      acc:\t    0.5550\n",
      "precision:\t    1.0000\n",
      "   recall:\t    0.1100\n",
      "Specificity:\t    1.0000\n",
      "Sensitivity:\t    0.1100\n",
      "F1-measure:\t    0.1982\n",
      "------------------------------------------------------\n",
      "\n",
      "f1 is 0.1982\n",
      "tensor(0.1982)\n"
     ]
    },
    {
     "name": "stderr",
     "output_type": "stream",
     "text": [
      "\r",
      " 56%|███████████████████████▌                  | 56/100 [00:21<00:12,  3.51it/s]"
     ]
    },
    {
     "name": "stdout",
     "output_type": "stream",
     "text": [
      "\n",
      "------------------------results----------------------\n",
      "        96\t      1000\n",
      "      1000\t      1000\n",
      "      acc:\t    0.5480\n",
      "precision:\t    1.0000\n",
      "   recall:\t    0.0960\n",
      "Specificity:\t    1.0000\n",
      "Sensitivity:\t    0.0960\n",
      "F1-measure:\t    0.1752\n",
      "------------------------------------------------------\n",
      "\n",
      "f1 is 0.1752\n",
      "tensor(0.1752)\n"
     ]
    },
    {
     "name": "stderr",
     "output_type": "stream",
     "text": [
      "\r",
      " 57%|███████████████████████▉                  | 57/100 [00:22<00:12,  3.58it/s]"
     ]
    },
    {
     "name": "stdout",
     "output_type": "stream",
     "text": [
      "\n",
      "------------------------results----------------------\n",
      "        90\t      1000\n",
      "      1000\t      1000\n",
      "      acc:\t    0.5450\n",
      "precision:\t    1.0000\n",
      "   recall:\t    0.0900\n",
      "Specificity:\t    1.0000\n",
      "Sensitivity:\t    0.0900\n",
      "F1-measure:\t    0.1651\n",
      "------------------------------------------------------\n",
      "\n",
      "f1 is 0.1651\n",
      "tensor(0.1651)\n"
     ]
    },
    {
     "name": "stderr",
     "output_type": "stream",
     "text": [
      "\r",
      " 58%|████████████████████████▎                 | 58/100 [00:22<00:11,  3.62it/s]"
     ]
    },
    {
     "name": "stdout",
     "output_type": "stream",
     "text": [
      "\n",
      "------------------------results----------------------\n",
      "       108\t      1000\n",
      "      1000\t      1000\n",
      "      acc:\t    0.5540\n",
      "precision:\t    1.0000\n",
      "   recall:\t    0.1080\n",
      "Specificity:\t    1.0000\n",
      "Sensitivity:\t    0.1080\n",
      "F1-measure:\t    0.1949\n",
      "------------------------------------------------------\n",
      "\n",
      "f1 is 0.1949\n",
      "tensor(0.1949)\n"
     ]
    },
    {
     "name": "stderr",
     "output_type": "stream",
     "text": [
      "\r",
      " 59%|████████████████████████▊                 | 59/100 [00:22<00:11,  3.65it/s]"
     ]
    },
    {
     "name": "stdout",
     "output_type": "stream",
     "text": [
      "\n",
      "------------------------results----------------------\n",
      "       124\t      1000\n",
      "      1000\t      1000\n",
      "      acc:\t    0.5620\n",
      "precision:\t    1.0000\n",
      "   recall:\t    0.1240\n",
      "Specificity:\t    1.0000\n",
      "Sensitivity:\t    0.1240\n",
      "F1-measure:\t    0.2206\n",
      "------------------------------------------------------\n",
      "\n",
      "f1 is 0.2206\n",
      "tensor(0.2206)\n"
     ]
    },
    {
     "name": "stderr",
     "output_type": "stream",
     "text": [
      "\r",
      " 60%|█████████████████████████▏                | 60/100 [00:22<00:10,  3.69it/s]"
     ]
    },
    {
     "name": "stdout",
     "output_type": "stream",
     "text": [
      "\n",
      "------------------------results----------------------\n",
      "       187\t      1000\n",
      "       999\t      1000\n",
      "      acc:\t    0.5930\n",
      "precision:\t    0.9947\n",
      "   recall:\t    0.1870\n",
      "Specificity:\t    0.9990\n",
      "Sensitivity:\t    0.1870\n",
      "F1-measure:\t    0.3148\n",
      "------------------------------------------------------\n",
      "\n",
      "f1 is 0.3148\n",
      "tensor(0.3148)\n",
      "\n",
      "------------------------results----------------------\n",
      "       275\t      1000\n",
      "       999\t      1000\n",
      "      acc:\t    0.6370\n",
      "precision:\t    0.9964\n",
      "   recall:\t    0.2750\n",
      "Specificity:\t    0.9990\n",
      "Sensitivity:\t    0.2750\n",
      "F1-measure:\t    0.4310\n",
      "------------------------------------------------------\n",
      "\n",
      "f1 is 0.4310\n",
      "tensor(0.4310)\n"
     ]
    },
    {
     "name": "stderr",
     "output_type": "stream",
     "text": [
      "\r",
      " 61%|█████████████████████████▌                | 61/100 [00:23<00:14,  2.71it/s]"
     ]
    },
    {
     "name": "stdout",
     "output_type": "stream",
     "text": [
      "\n",
      "------------------------results----------------------\n",
      "       330\t      1000\n",
      "       998\t      1000\n",
      "      acc:\t    0.6640\n",
      "precision:\t    0.9940\n",
      "   recall:\t    0.3300\n",
      "Specificity:\t    0.9980\n",
      "Sensitivity:\t    0.3300\n",
      "F1-measure:\t    0.4955\n",
      "------------------------------------------------------\n",
      "\n",
      "f1 is 0.4955\n",
      "tensor(0.4955)\n"
     ]
    },
    {
     "name": "stderr",
     "output_type": "stream",
     "text": [
      "\r",
      " 62%|██████████████████████████                | 62/100 [00:24<00:18,  2.02it/s]"
     ]
    },
    {
     "name": "stdout",
     "output_type": "stream",
     "text": [
      "\n",
      "------------------------results----------------------\n",
      "       364\t      1000\n",
      "       998\t      1000\n",
      "      acc:\t    0.6810\n",
      "precision:\t    0.9945\n",
      "   recall:\t    0.3640\n",
      "Specificity:\t    0.9980\n",
      "Sensitivity:\t    0.3640\n",
      "F1-measure:\t    0.5329\n",
      "------------------------------------------------------\n",
      "\n",
      "f1 is 0.5329\n",
      "tensor(0.5329)\n"
     ]
    },
    {
     "name": "stderr",
     "output_type": "stream",
     "text": [
      "\r",
      " 63%|██████████████████████████▍               | 63/100 [00:25<00:21,  1.71it/s]"
     ]
    },
    {
     "name": "stdout",
     "output_type": "stream",
     "text": [
      "\n",
      "------------------------results----------------------\n",
      "       375\t      1000\n",
      "       998\t      1000\n",
      "      acc:\t    0.6865\n",
      "precision:\t    0.9947\n",
      "   recall:\t    0.3750\n",
      "Specificity:\t    0.9980\n",
      "Sensitivity:\t    0.3750\n",
      "F1-measure:\t    0.5447\n",
      "------------------------------------------------------\n",
      "\n",
      "f1 is 0.5447\n",
      "tensor(0.5447)\n"
     ]
    },
    {
     "name": "stderr",
     "output_type": "stream",
     "text": [
      " 65%|███████████████████████████▎              | 65/100 [00:25<00:16,  2.09it/s]"
     ]
    },
    {
     "name": "stdout",
     "output_type": "stream",
     "text": [
      "\n",
      "------------------------results----------------------\n",
      "       374\t      1000\n",
      "       998\t      1000\n",
      "      acc:\t    0.6860\n",
      "precision:\t    0.9947\n",
      "   recall:\t    0.3740\n",
      "Specificity:\t    0.9980\n",
      "Sensitivity:\t    0.3740\n",
      "F1-measure:\t    0.5436\n",
      "------------------------------------------------------\n",
      "\n",
      "f1 is 0.5436\n",
      "tensor(0.5436)\n"
     ]
    },
    {
     "name": "stderr",
     "output_type": "stream",
     "text": [
      "\r",
      " 66%|███████████████████████████▋              | 66/100 [00:26<00:14,  2.41it/s]"
     ]
    },
    {
     "name": "stdout",
     "output_type": "stream",
     "text": [
      "\n",
      "------------------------results----------------------\n",
      "       371\t      1000\n",
      "       998\t      1000\n",
      "      acc:\t    0.6845\n",
      "precision:\t    0.9946\n",
      "   recall:\t    0.3710\n",
      "Specificity:\t    0.9980\n",
      "Sensitivity:\t    0.3710\n",
      "F1-measure:\t    0.5404\n",
      "------------------------------------------------------\n",
      "\n",
      "f1 is 0.5404\n",
      "tensor(0.5404)\n",
      "\n",
      "------------------------results----------------------\n",
      "       432\t      1000\n",
      "       998\t      1000\n",
      "      acc:\t    0.7150\n",
      "precision:\t    0.9954\n",
      "   recall:\t    0.4320\n",
      "Specificity:\t    0.9980\n",
      "Sensitivity:\t    0.4320\n",
      "F1-measure:\t    0.6025\n",
      "------------------------------------------------------\n",
      "\n",
      "f1 is 0.6025\n",
      "tensor(0.6025)\n"
     ]
    },
    {
     "name": "stderr",
     "output_type": "stream",
     "text": [
      "\r",
      " 67%|████████████████████████████▏             | 67/100 [00:26<00:14,  2.23it/s]"
     ]
    },
    {
     "name": "stdout",
     "output_type": "stream",
     "text": [
      "\n",
      "------------------------results----------------------\n",
      "       528\t      1000\n",
      "       998\t      1000\n",
      "      acc:\t    0.7630\n",
      "precision:\t    0.9962\n",
      "   recall:\t    0.5280\n",
      "Specificity:\t    0.9980\n",
      "Sensitivity:\t    0.5280\n",
      "F1-measure:\t    0.6902\n",
      "------------------------------------------------------\n",
      "\n",
      "f1 is 0.6902\n",
      "tensor(0.6902)\n"
     ]
    },
    {
     "name": "stderr",
     "output_type": "stream",
     "text": [
      "\r",
      " 68%|████████████████████████████▌             | 68/100 [00:27<00:15,  2.10it/s]"
     ]
    },
    {
     "name": "stdout",
     "output_type": "stream",
     "text": [
      "\n",
      "------------------------results----------------------\n",
      "       672\t      1000\n",
      "       997\t      1000\n",
      "      acc:\t    0.8345\n",
      "precision:\t    0.9956\n",
      "   recall:\t    0.6720\n",
      "Specificity:\t    0.9970\n",
      "Sensitivity:\t    0.6720\n",
      "F1-measure:\t    0.8024\n",
      "------------------------------------------------------\n",
      "\n",
      "f1 is 0.8024\n",
      "tensor(0.8024)\n"
     ]
    },
    {
     "name": "stderr",
     "output_type": "stream",
     "text": [
      "\r",
      " 69%|████████████████████████████▉             | 69/100 [00:27<00:15,  2.01it/s]"
     ]
    },
    {
     "name": "stdout",
     "output_type": "stream",
     "text": [
      "\n",
      "------------------------results----------------------\n",
      "       781\t      1000\n",
      "       997\t      1000\n",
      "      acc:\t    0.8890\n",
      "precision:\t    0.9962\n",
      "   recall:\t    0.7810\n",
      "Specificity:\t    0.9970\n",
      "Sensitivity:\t    0.7810\n",
      "F1-measure:\t    0.8756\n",
      "------------------------------------------------------\n",
      "\n",
      "f1 is 0.8756\n",
      "tensor(0.8756)\n"
     ]
    },
    {
     "name": "stderr",
     "output_type": "stream",
     "text": [
      "\r",
      " 70%|█████████████████████████████▍            | 70/100 [00:28<00:15,  1.93it/s]"
     ]
    },
    {
     "name": "stdout",
     "output_type": "stream",
     "text": [
      "\n",
      "------------------------results----------------------\n",
      "       842\t      1000\n",
      "       992\t      1000\n",
      "      acc:\t    0.9170\n",
      "precision:\t    0.9906\n",
      "   recall:\t    0.8420\n",
      "Specificity:\t    0.9920\n",
      "Sensitivity:\t    0.8420\n",
      "F1-measure:\t    0.9103\n",
      "------------------------------------------------------\n",
      "\n",
      "f1 is 0.9103\n",
      "tensor(0.9103)\n"
     ]
    },
    {
     "name": "stderr",
     "output_type": "stream",
     "text": [
      "\r",
      " 71%|█████████████████████████████▊            | 71/100 [00:28<00:15,  1.90it/s]"
     ]
    },
    {
     "name": "stdout",
     "output_type": "stream",
     "text": [
      "\n",
      "------------------------results----------------------\n",
      "       897\t      1000\n",
      "       986\t      1000\n",
      "      acc:\t    0.9415\n",
      "precision:\t    0.9846\n",
      "   recall:\t    0.8970\n",
      "Specificity:\t    0.9860\n",
      "Sensitivity:\t    0.8970\n",
      "F1-measure:\t    0.9388\n",
      "------------------------------------------------------\n",
      "\n",
      "f1 is 0.9388\n",
      "tensor(0.9388)\n"
     ]
    },
    {
     "name": "stderr",
     "output_type": "stream",
     "text": [
      "\r",
      " 72%|██████████████████████████████▏           | 72/100 [00:29<00:16,  1.66it/s]"
     ]
    },
    {
     "name": "stdout",
     "output_type": "stream",
     "text": [
      "\n",
      "------------------------results----------------------\n",
      "       924\t      1000\n",
      "       974\t      1000\n",
      "      acc:\t    0.9490\n",
      "precision:\t    0.9726\n",
      "   recall:\t    0.9240\n",
      "Specificity:\t    0.9740\n",
      "Sensitivity:\t    0.9240\n",
      "F1-measure:\t    0.9477\n",
      "------------------------------------------------------\n",
      "\n",
      "f1 is 0.9477\n",
      "tensor(0.9477)\n"
     ]
    },
    {
     "name": "stderr",
     "output_type": "stream",
     "text": [
      "\r",
      " 73%|██████████████████████████████▋           | 73/100 [00:30<00:15,  1.72it/s]"
     ]
    },
    {
     "name": "stdout",
     "output_type": "stream",
     "text": [
      "\n",
      "------------------------results----------------------\n",
      "       916\t      1000\n",
      "       978\t      1000\n",
      "      acc:\t    0.9470\n",
      "precision:\t    0.9765\n",
      "   recall:\t    0.9160\n",
      "Specificity:\t    0.9780\n",
      "Sensitivity:\t    0.9160\n",
      "F1-measure:\t    0.9453\n",
      "------------------------------------------------------\n",
      "\n",
      "f1 is 0.9453\n",
      "tensor(0.9453)\n"
     ]
    },
    {
     "name": "stderr",
     "output_type": "stream",
     "text": [
      " 75%|███████████████████████████████▌          | 75/100 [00:30<00:11,  2.09it/s]"
     ]
    },
    {
     "name": "stdout",
     "output_type": "stream",
     "text": [
      "\n",
      "------------------------results----------------------\n",
      "       856\t      1000\n",
      "       994\t      1000\n",
      "      acc:\t    0.9250\n",
      "precision:\t    0.9930\n",
      "   recall:\t    0.8560\n",
      "Specificity:\t    0.9940\n",
      "Sensitivity:\t    0.8560\n",
      "F1-measure:\t    0.9194\n",
      "------------------------------------------------------\n",
      "\n",
      "f1 is 0.9194\n",
      "tensor(0.9194)\n"
     ]
    },
    {
     "name": "stderr",
     "output_type": "stream",
     "text": [
      "\r",
      " 76%|███████████████████████████████▉          | 76/100 [00:31<00:09,  2.42it/s]"
     ]
    },
    {
     "name": "stdout",
     "output_type": "stream",
     "text": [
      "\n",
      "------------------------results----------------------\n",
      "       842\t      1000\n",
      "       994\t      1000\n",
      "      acc:\t    0.9180\n",
      "precision:\t    0.9929\n",
      "   recall:\t    0.8420\n",
      "Specificity:\t    0.9940\n",
      "Sensitivity:\t    0.8420\n",
      "F1-measure:\t    0.9113\n",
      "------------------------------------------------------\n",
      "\n",
      "f1 is 0.9113\n",
      "tensor(0.9113)\n"
     ]
    },
    {
     "name": "stderr",
     "output_type": "stream",
     "text": [
      "\r",
      " 77%|████████████████████████████████▎         | 77/100 [00:31<00:08,  2.71it/s]"
     ]
    },
    {
     "name": "stdout",
     "output_type": "stream",
     "text": [
      "\n",
      "------------------------results----------------------\n",
      "       847\t      1000\n",
      "       994\t      1000\n",
      "      acc:\t    0.9205\n",
      "precision:\t    0.9930\n",
      "   recall:\t    0.8470\n",
      "Specificity:\t    0.9940\n",
      "Sensitivity:\t    0.8470\n",
      "F1-measure:\t    0.9142\n",
      "------------------------------------------------------\n",
      "\n",
      "f1 is 0.9142\n",
      "tensor(0.9142)\n"
     ]
    },
    {
     "name": "stderr",
     "output_type": "stream",
     "text": [
      "\r",
      " 78%|████████████████████████████████▊         | 78/100 [00:31<00:07,  2.97it/s]"
     ]
    },
    {
     "name": "stdout",
     "output_type": "stream",
     "text": [
      "\n",
      "------------------------results----------------------\n",
      "       871\t      1000\n",
      "       994\t      1000\n",
      "      acc:\t    0.9325\n",
      "precision:\t    0.9932\n",
      "   recall:\t    0.8710\n",
      "Specificity:\t    0.9940\n",
      "Sensitivity:\t    0.8710\n",
      "F1-measure:\t    0.9281\n",
      "------------------------------------------------------\n",
      "\n",
      "f1 is 0.9281\n",
      "tensor(0.9281)\n"
     ]
    },
    {
     "name": "stderr",
     "output_type": "stream",
     "text": [
      "\r",
      " 79%|█████████████████████████████████▏        | 79/100 [00:31<00:06,  3.17it/s]"
     ]
    },
    {
     "name": "stdout",
     "output_type": "stream",
     "text": [
      "\n",
      "------------------------results----------------------\n",
      "       875\t      1000\n",
      "       992\t      1000\n",
      "      acc:\t    0.9335\n",
      "precision:\t    0.9909\n",
      "   recall:\t    0.8750\n",
      "Specificity:\t    0.9920\n",
      "Sensitivity:\t    0.8750\n",
      "F1-measure:\t    0.9294\n",
      "------------------------------------------------------\n",
      "\n",
      "f1 is 0.9294\n",
      "tensor(0.9294)\n"
     ]
    },
    {
     "name": "stderr",
     "output_type": "stream",
     "text": [
      "\r",
      " 80%|█████████████████████████████████▌        | 80/100 [00:32<00:06,  3.32it/s]"
     ]
    },
    {
     "name": "stdout",
     "output_type": "stream",
     "text": [
      "\n",
      "------------------------results----------------------\n",
      "       882\t      1000\n",
      "       989\t      1000\n",
      "      acc:\t    0.9355\n",
      "precision:\t    0.9877\n",
      "   recall:\t    0.8820\n",
      "Specificity:\t    0.9890\n",
      "Sensitivity:\t    0.8820\n",
      "F1-measure:\t    0.9319\n",
      "------------------------------------------------------\n",
      "\n",
      "f1 is 0.9319\n",
      "tensor(0.9319)\n"
     ]
    },
    {
     "name": "stderr",
     "output_type": "stream",
     "text": [
      "\r",
      " 81%|██████████████████████████████████        | 81/100 [00:32<00:05,  3.46it/s]"
     ]
    },
    {
     "name": "stdout",
     "output_type": "stream",
     "text": [
      "\n",
      "------------------------results----------------------\n",
      "       847\t      1000\n",
      "       993\t      1000\n",
      "      acc:\t    0.9200\n",
      "precision:\t    0.9918\n",
      "   recall:\t    0.8470\n",
      "Specificity:\t    0.9930\n",
      "Sensitivity:\t    0.8470\n",
      "F1-measure:\t    0.9137\n",
      "------------------------------------------------------\n",
      "\n",
      "f1 is 0.9137\n",
      "tensor(0.9137)\n"
     ]
    },
    {
     "name": "stderr",
     "output_type": "stream",
     "text": [
      "\r",
      " 82%|██████████████████████████████████▍       | 82/100 [00:32<00:05,  3.53it/s]"
     ]
    },
    {
     "name": "stdout",
     "output_type": "stream",
     "text": [
      "\n",
      "------------------------results----------------------\n",
      "       821\t      1000\n",
      "       994\t      1000\n",
      "      acc:\t    0.9075\n",
      "precision:\t    0.9927\n",
      "   recall:\t    0.8210\n",
      "Specificity:\t    0.9940\n",
      "Sensitivity:\t    0.8210\n",
      "F1-measure:\t    0.8987\n",
      "------------------------------------------------------\n",
      "\n",
      "f1 is 0.8987\n",
      "tensor(0.8987)\n"
     ]
    },
    {
     "name": "stderr",
     "output_type": "stream",
     "text": [
      "\r",
      " 83%|██████████████████████████████████▊       | 83/100 [00:33<00:04,  3.58it/s]"
     ]
    },
    {
     "name": "stdout",
     "output_type": "stream",
     "text": [
      "\n",
      "------------------------results----------------------\n",
      "       760\t      1000\n",
      "       996\t      1000\n",
      "      acc:\t    0.8780\n",
      "precision:\t    0.9948\n",
      "   recall:\t    0.7600\n",
      "Specificity:\t    0.9960\n",
      "Sensitivity:\t    0.7600\n",
      "F1-measure:\t    0.8617\n",
      "------------------------------------------------------\n",
      "\n",
      "f1 is 0.8617\n",
      "tensor(0.8617)\n"
     ]
    },
    {
     "name": "stderr",
     "output_type": "stream",
     "text": [
      "\r",
      " 84%|███████████████████████████████████▎      | 84/100 [00:33<00:04,  3.61it/s]"
     ]
    },
    {
     "name": "stdout",
     "output_type": "stream",
     "text": [
      "\n",
      "------------------------results----------------------\n",
      "       719\t      1000\n",
      "       997\t      1000\n",
      "      acc:\t    0.8580\n",
      "precision:\t    0.9958\n",
      "   recall:\t    0.7190\n",
      "Specificity:\t    0.9970\n",
      "Sensitivity:\t    0.7190\n",
      "F1-measure:\t    0.8351\n",
      "------------------------------------------------------\n",
      "\n",
      "f1 is 0.8351\n",
      "tensor(0.8351)\n"
     ]
    },
    {
     "name": "stderr",
     "output_type": "stream",
     "text": [
      "\r",
      " 85%|███████████████████████████████████▋      | 85/100 [00:33<00:04,  3.61it/s]"
     ]
    },
    {
     "name": "stdout",
     "output_type": "stream",
     "text": [
      "\n",
      "------------------------results----------------------\n",
      "       682\t      1000\n",
      "       997\t      1000\n",
      "      acc:\t    0.8395\n",
      "precision:\t    0.9956\n",
      "   recall:\t    0.6820\n",
      "Specificity:\t    0.9970\n",
      "Sensitivity:\t    0.6820\n",
      "F1-measure:\t    0.8095\n",
      "------------------------------------------------------\n",
      "\n",
      "f1 is 0.8095\n",
      "tensor(0.8095)\n"
     ]
    },
    {
     "name": "stderr",
     "output_type": "stream",
     "text": [
      "\r",
      " 86%|████████████████████████████████████      | 86/100 [00:33<00:03,  3.66it/s]"
     ]
    },
    {
     "name": "stdout",
     "output_type": "stream",
     "text": [
      "\n",
      "------------------------results----------------------\n",
      "       683\t      1000\n",
      "       997\t      1000\n",
      "      acc:\t    0.8400\n",
      "precision:\t    0.9956\n",
      "   recall:\t    0.6830\n",
      "Specificity:\t    0.9970\n",
      "Sensitivity:\t    0.6830\n",
      "F1-measure:\t    0.8102\n",
      "------------------------------------------------------\n",
      "\n",
      "f1 is 0.8102\n",
      "tensor(0.8102)\n"
     ]
    },
    {
     "name": "stderr",
     "output_type": "stream",
     "text": [
      "\r",
      " 87%|████████████████████████████████████▌     | 87/100 [00:34<00:03,  3.70it/s]"
     ]
    },
    {
     "name": "stdout",
     "output_type": "stream",
     "text": [
      "\n",
      "------------------------results----------------------\n",
      "       665\t      1000\n",
      "       997\t      1000\n",
      "      acc:\t    0.8310\n",
      "precision:\t    0.9955\n",
      "   recall:\t    0.6650\n",
      "Specificity:\t    0.9970\n",
      "Sensitivity:\t    0.6650\n",
      "F1-measure:\t    0.7974\n",
      "------------------------------------------------------\n",
      "\n",
      "f1 is 0.7974\n",
      "tensor(0.7974)\n"
     ]
    },
    {
     "name": "stderr",
     "output_type": "stream",
     "text": [
      "\r",
      " 88%|████████████████████████████████████▉     | 88/100 [00:34<00:03,  3.72it/s]"
     ]
    },
    {
     "name": "stdout",
     "output_type": "stream",
     "text": [
      "\n",
      "------------------------results----------------------\n",
      "       650\t      1000\n",
      "       996\t      1000\n",
      "      acc:\t    0.8230\n",
      "precision:\t    0.9939\n",
      "   recall:\t    0.6500\n",
      "Specificity:\t    0.9960\n",
      "Sensitivity:\t    0.6500\n",
      "F1-measure:\t    0.7860\n",
      "------------------------------------------------------\n",
      "\n",
      "f1 is 0.7860\n",
      "tensor(0.7860)\n"
     ]
    },
    {
     "name": "stderr",
     "output_type": "stream",
     "text": [
      "\r",
      " 89%|█████████████████████████████████████▍    | 89/100 [00:34<00:02,  3.70it/s]"
     ]
    },
    {
     "name": "stdout",
     "output_type": "stream",
     "text": [
      "\n",
      "------------------------results----------------------\n",
      "       677\t      1000\n",
      "       994\t      1000\n",
      "      acc:\t    0.8355\n",
      "precision:\t    0.9912\n",
      "   recall:\t    0.6770\n",
      "Specificity:\t    0.9940\n",
      "Sensitivity:\t    0.6770\n",
      "F1-measure:\t    0.8045\n",
      "------------------------------------------------------\n",
      "\n",
      "f1 is 0.8045\n",
      "tensor(0.8045)\n"
     ]
    },
    {
     "name": "stderr",
     "output_type": "stream",
     "text": [
      "\r",
      " 90%|█████████████████████████████████████▊    | 90/100 [00:34<00:02,  3.69it/s]"
     ]
    },
    {
     "name": "stdout",
     "output_type": "stream",
     "text": [
      "\n",
      "------------------------results----------------------\n",
      "       736\t      1000\n",
      "       994\t      1000\n",
      "      acc:\t    0.8650\n",
      "precision:\t    0.9919\n",
      "   recall:\t    0.7360\n",
      "Specificity:\t    0.9940\n",
      "Sensitivity:\t    0.7360\n",
      "F1-measure:\t    0.8450\n",
      "------------------------------------------------------\n",
      "\n",
      "f1 is 0.8450\n",
      "tensor(0.8450)\n",
      "\n",
      "------------------------results----------------------\n",
      "       776\t      1000\n",
      "       994\t      1000\n",
      "      acc:\t    0.8850\n",
      "precision:\t    0.9923\n",
      "   recall:\t    0.7760\n",
      "Specificity:\t    0.9940\n",
      "Sensitivity:\t    0.7760\n",
      "F1-measure:\t    0.8709\n",
      "------------------------------------------------------\n",
      "\n",
      "f1 is 0.8709\n",
      "tensor(0.8709)\n"
     ]
    },
    {
     "name": "stderr",
     "output_type": "stream",
     "text": [
      "\r",
      " 91%|██████████████████████████████████████▏   | 91/100 [00:35<00:03,  2.83it/s]"
     ]
    },
    {
     "name": "stdout",
     "output_type": "stream",
     "text": [
      "\n",
      "------------------------results----------------------\n",
      "       809\t      1000\n",
      "       996\t      1000\n",
      "      acc:\t    0.9025\n",
      "precision:\t    0.9951\n",
      "   recall:\t    0.8090\n",
      "Specificity:\t    0.9960\n",
      "Sensitivity:\t    0.8090\n",
      "F1-measure:\t    0.8924\n",
      "------------------------------------------------------\n",
      "\n",
      "f1 is 0.8924\n",
      "tensor(0.8924)\n"
     ]
    },
    {
     "name": "stderr",
     "output_type": "stream",
     "text": [
      " 93%|███████████████████████████████████████   | 93/100 [00:36<00:02,  2.75it/s]"
     ]
    },
    {
     "name": "stdout",
     "output_type": "stream",
     "text": [
      "\n",
      "------------------------results----------------------\n",
      "       841\t      1000\n",
      "       994\t      1000\n",
      "      acc:\t    0.9175\n",
      "precision:\t    0.9929\n",
      "   recall:\t    0.8410\n",
      "Specificity:\t    0.9940\n",
      "Sensitivity:\t    0.8410\n",
      "F1-measure:\t    0.9107\n",
      "------------------------------------------------------\n",
      "\n",
      "f1 is 0.9107\n",
      "tensor(0.9107)\n"
     ]
    },
    {
     "name": "stderr",
     "output_type": "stream",
     "text": [
      "\r",
      " 94%|███████████████████████████████████████▍  | 94/100 [00:36<00:02,  2.98it/s]"
     ]
    },
    {
     "name": "stdout",
     "output_type": "stream",
     "text": [
      "\n",
      "------------------------results----------------------\n",
      "       865\t      1000\n",
      "       994\t      1000\n",
      "      acc:\t    0.9295\n",
      "precision:\t    0.9931\n",
      "   recall:\t    0.8650\n",
      "Specificity:\t    0.9940\n",
      "Sensitivity:\t    0.8650\n",
      "F1-measure:\t    0.9246\n",
      "------------------------------------------------------\n",
      "\n",
      "f1 is 0.9246\n",
      "tensor(0.9246)\n"
     ]
    },
    {
     "name": "stderr",
     "output_type": "stream",
     "text": [
      "\r",
      " 95%|███████████████████████████████████████▉  | 95/100 [00:36<00:01,  3.16it/s]"
     ]
    },
    {
     "name": "stdout",
     "output_type": "stream",
     "text": [
      "\n",
      "------------------------results----------------------\n",
      "       880\t      1000\n",
      "       993\t      1000\n",
      "      acc:\t    0.9365\n",
      "precision:\t    0.9921\n",
      "   recall:\t    0.8800\n",
      "Specificity:\t    0.9930\n",
      "Sensitivity:\t    0.8800\n",
      "F1-measure:\t    0.9327\n",
      "------------------------------------------------------\n",
      "\n",
      "f1 is 0.9327\n",
      "tensor(0.9327)\n"
     ]
    },
    {
     "name": "stderr",
     "output_type": "stream",
     "text": [
      "\r",
      " 96%|████████████████████████████████████████▎ | 96/100 [00:37<00:01,  3.31it/s]"
     ]
    },
    {
     "name": "stdout",
     "output_type": "stream",
     "text": [
      "\n",
      "------------------------results----------------------\n",
      "       894\t      1000\n",
      "       990\t      1000\n",
      "      acc:\t    0.9420\n",
      "precision:\t    0.9889\n",
      "   recall:\t    0.8940\n",
      "Specificity:\t    0.9900\n",
      "Sensitivity:\t    0.8940\n",
      "F1-measure:\t    0.9391\n",
      "------------------------------------------------------\n",
      "\n",
      "f1 is 0.9391\n",
      "tensor(0.9391)\n",
      "\n",
      "------------------------results----------------------\n",
      "       929\t      1000\n",
      "       986\t      1000\n",
      "      acc:\t    0.9575\n",
      "precision:\t    0.9852\n",
      "   recall:\t    0.9290\n",
      "Specificity:\t    0.9860\n",
      "Sensitivity:\t    0.9290\n",
      "F1-measure:\t    0.9563\n",
      "------------------------------------------------------\n",
      "\n",
      "f1 is 0.9563\n",
      "tensor(0.9563)\n"
     ]
    },
    {
     "name": "stderr",
     "output_type": "stream",
     "text": [
      "\r",
      " 97%|████████████████████████████████████████▋ | 97/100 [00:37<00:01,  2.66it/s]"
     ]
    },
    {
     "name": "stdout",
     "output_type": "stream",
     "text": [
      "\n",
      "------------------------results----------------------\n",
      "       958\t      1000\n",
      "       969\t      1000\n",
      "      acc:\t    0.9635\n",
      "precision:\t    0.9687\n",
      "   recall:\t    0.9580\n",
      "Specificity:\t    0.9690\n",
      "Sensitivity:\t    0.9580\n",
      "F1-measure:\t    0.9633\n",
      "------------------------------------------------------\n",
      "\n",
      "f1 is 0.9633\n",
      "tensor(0.9633)\n"
     ]
    },
    {
     "name": "stderr",
     "output_type": "stream",
     "text": [
      " 99%|█████████████████████████████████████████▌| 99/100 [00:38<00:00,  2.62it/s]"
     ]
    },
    {
     "name": "stdout",
     "output_type": "stream",
     "text": [
      "\n",
      "------------------------results----------------------\n",
      "       965\t      1000\n",
      "       954\t      1000\n",
      "      acc:\t    0.9595\n",
      "precision:\t    0.9545\n",
      "   recall:\t    0.9650\n",
      "Specificity:\t    0.9540\n",
      "Sensitivity:\t    0.9650\n",
      "F1-measure:\t    0.9597\n",
      "------------------------------------------------------\n",
      "\n",
      "f1 is 0.9597\n",
      "tensor(0.9597)\n"
     ]
    },
    {
     "name": "stderr",
     "output_type": "stream",
     "text": [
      "100%|█████████████████████████████████████████| 100/100 [00:38<00:00,  2.58it/s]"
     ]
    },
    {
     "name": "stdout",
     "output_type": "stream",
     "text": [
      "\n",
      "------------------------results----------------------\n",
      "       969\t      1000\n",
      "       956\t      1000\n",
      "      acc:\t    0.9625\n",
      "precision:\t    0.9566\n",
      "   recall:\t    0.9690\n",
      "Specificity:\t    0.9560\n",
      "Sensitivity:\t    0.9690\n",
      "F1-measure:\t    0.9627\n",
      "------------------------------------------------------\n",
      "\n",
      "f1 is 0.9627\n",
      "tensor(0.9627)\n"
     ]
    },
    {
     "name": "stderr",
     "output_type": "stream",
     "text": [
      "\n"
     ]
    },
    {
     "name": "stdout",
     "output_type": "stream",
     "text": [
      "\n",
      "------------------------results----------------------\n",
      "       969\t      1000\n",
      "       956\t      1000\n",
      "      acc:\t    0.9625\n",
      "precision:\t    0.9566\n",
      "   recall:\t    0.9690\n",
      "Specificity:\t    0.9560\n",
      "Sensitivity:\t    0.9690\n",
      "F1-measure:\t    0.9627\n",
      "------------------------------------------------------\n",
      "\n",
      "f1 is 0.9627\n",
      "f1 is 0.9627\n"
     ]
    }
   ],
   "source": [
    "train(cfg)"
   ]
  },
  {
   "cell_type": "markdown",
   "id": "9a6e6de9",
   "metadata": {},
   "source": [
    "### Test the Model performance\n",
    "In this demo, We first test the model with the best f1 score, which was the 969 epoch. After that, we save the embedding for downstream analysis"
   ]
  },
  {
   "cell_type": "code",
   "execution_count": 7,
   "id": "fb9cb4b8",
   "metadata": {},
   "outputs": [],
   "source": [
    "@torch.no_grad()\n",
    "def test(cfg):\n",
    "    tar_data_root = cfg['DATASET']['target_data_root']\n",
    "    tar_label_root = cfg['DATASET']['target_label_root']\n",
    "    tar_adj_root = cfg['DATASET']['target_adj_root']\n",
    "    tar, tar_index = load_unsuper_data(root=tar_data_root,\n",
    "                            adj_root=tar_adj_root,\n",
    "                            label_root=tar_label_root, return_index=True)\n",
    "\n",
    "    model = TLModel(cfg)\n",
    "    model.load(cfg['TEST']['Save_path'])\n",
    "\n",
    "    pred = model.set_input(tar, tar)\n",
    "    pred = model.inference()\n",
    "    # src_emb, tar_emb = model.get_emb()\n",
    "    pred = pred.detach().cpu()\n",
    "\n",
    "    label = tar.y.detach().cpu()\n",
    "    f1 = eval_results(pred, label)\n",
    "\n",
    "    # save pred to csv\n",
    "    True_label = label.numpy()\n",
    "\n",
    "    df = pd.DataFrame(index=tar_index)\n",
    "    df['pred'] = pred.numpy()\n",
    "    df['true_label'] = True_label\n",
    "\n",
    "    # if not os.path.exists(os.path.join('results', cfg['Name'])):\n",
    "    #     os.makedirs(os.path.join('results', cfg['Name']))\n",
    "    \n",
    "    if not os.path.join(cfg[\"TEST\"][\"Pred\"]):\n",
    "        os.makedirs(cfg[\"TEST\"][\"Pred\"], exist_ok=True)\n",
    "    \n",
    "    df.to_csv(os.path.join(cfg['TEST']['Pred'],'prediction.csv'))        \n",
    "    return f1"
   ]
  },
  {
   "cell_type": "code",
   "execution_count": 8,
   "id": "f1259691",
   "metadata": {},
   "outputs": [
    {
     "name": "stdout",
     "output_type": "stream",
     "text": [
      "Using TransformerConv\n"
     ]
    },
    {
     "data": {
      "text/plain": [
       "tensor(0.9633)"
      ]
     },
     "execution_count": 8,
     "metadata": {},
     "output_type": "execute_result"
    }
   ],
   "source": [
    "test(cfg)"
   ]
  },
  {
   "cell_type": "code",
   "execution_count": 9,
   "id": "8dea179c",
   "metadata": {},
   "outputs": [],
   "source": [
    "@torch.no_grad()\n",
    "def save_emb(cfg):\n",
    "    src_data_root = cfg['DATASET']['Source_data_root']\n",
    "    src_label_root = cfg['DATASET']['Source_label_root']\n",
    "    src_adj_root = cfg['DATASET']['Source_adj_root']\n",
    "\n",
    "    src, src_index = load_unsuper_data(root=src_data_root,\n",
    "                            adj_root=src_adj_root,\n",
    "                            label_root=src_label_root, return_index=True)\n",
    "\n",
    "    tar_data_root = cfg['DATASET']['target_data_root']\n",
    "    tar_label_root = cfg['DATASET']['target_label_root']\n",
    "    tar_adj_root = cfg['DATASET']['target_adj_root']\n",
    "    tar, tar_index = load_unsuper_data(root=tar_data_root,\n",
    "                            adj_root=tar_adj_root,\n",
    "                            label_root=tar_label_root, return_index=True)\n",
    "\n",
    "\n",
    "    model = TLModel(cfg)\n",
    "    model.load(cfg['TEST']['Save_path'])\n",
    "\n",
    "    pred = model.set_input(src, tar)\n",
    "    src_emb, tar_emb = model.get_emb()\n",
    "\n",
    "    src_emb = src_emb.detach().cpu().numpy()\n",
    "    tar_emb = tar_emb.detach().cpu().numpy()\n",
    "\n",
    "    df = pd.DataFrame(src_emb, index=src_index)\n",
    "    # if not os.path.exists(os.path.join('results', cfg['Name'])):\n",
    "    #     os.makedirs(os.path.join('results', cfg['Name']))\n",
    "    df.to_csv(os.path.join(cfg['TEST']['Pred'],'src_emb.csv'))        \n",
    "\n",
    "    df = pd.DataFrame(tar_emb, index=tar_index)\n",
    "    df.to_csv(os.path.join(cfg['TEST']['Pred'],'tar_emb.csv'))        "
   ]
  },
  {
   "cell_type": "code",
   "execution_count": 10,
   "id": "54ed4918",
   "metadata": {},
   "outputs": [
    {
     "name": "stdout",
     "output_type": "stream",
     "text": [
      "Using TransformerConv\n"
     ]
    }
   ],
   "source": [
    "save_emb(cfg)"
   ]
  },
  {
   "cell_type": "markdown",
   "id": "59d335c6",
   "metadata": {},
   "source": [
    "### How to choose the model when we don't know the ground truth?\n",
    "1. In real implementation, we didn't have the ground truth, and therefore we provided another model called best_loss.pth, which had the smallest training loss. This can have overfitting issues and the performance is 0.8924"
   ]
  },
  {
   "cell_type": "code",
   "execution_count": 11,
   "id": "1d00aa33",
   "metadata": {},
   "outputs": [],
   "source": [
    "cfg['TEST']['Save_path'] = \"./checkpoint/best_loss.pth\"\n",
    "seed_everything(cfg['SEED'])"
   ]
  },
  {
   "cell_type": "code",
   "execution_count": 12,
   "id": "a3968343",
   "metadata": {},
   "outputs": [
    {
     "name": "stdout",
     "output_type": "stream",
     "text": [
      "./checkpoint/best_loss.pth\n"
     ]
    }
   ],
   "source": [
    "print(cfg['TEST']['Save_path'])"
   ]
  },
  {
   "cell_type": "code",
   "execution_count": 13,
   "id": "f8117009",
   "metadata": {},
   "outputs": [
    {
     "name": "stdout",
     "output_type": "stream",
     "text": [
      "Using TransformerConv\n"
     ]
    },
    {
     "data": {
      "text/plain": [
       "tensor(0.8924)"
      ]
     },
     "execution_count": 13,
     "metadata": {},
     "output_type": "execute_result"
    }
   ],
   "source": [
    "test(cfg)"
   ]
  },
  {
   "cell_type": "markdown",
   "id": "900667b0",
   "metadata": {},
   "source": [
    "2. We also present the result from the last epoch after training 100 times. The F1 score in the last layer is 0.9627, which is compariable with the best F1 model (0.9633)"
   ]
  },
  {
   "cell_type": "code",
   "execution_count": 14,
   "id": "41709481",
   "metadata": {},
   "outputs": [
    {
     "name": "stdout",
     "output_type": "stream",
     "text": [
      "./checkpoint/last.pth\n",
      "Using TransformerConv\n"
     ]
    },
    {
     "data": {
      "text/plain": [
       "tensor(0.9627)"
      ]
     },
     "execution_count": 14,
     "metadata": {},
     "output_type": "execute_result"
    }
   ],
   "source": [
    "cfg['TEST']['Save_path'] = \"./checkpoint/last.pth\"\n",
    "seed_everything(cfg['SEED'])\n",
    "print(cfg['TEST']['Save_path'])\n",
    "test(cfg)"
   ]
  },
  {
   "cell_type": "code",
   "execution_count": null,
   "id": "c22db7b5",
   "metadata": {},
   "outputs": [],
   "source": []
  }
 ],
 "metadata": {
  "kernelspec": {
   "display_name": "Python 3",
   "language": "python",
   "name": "python3"
  },
  "language_info": {
   "codemirror_mode": {
    "name": "ipython",
    "version": 3
   },
   "file_extension": ".py",
   "mimetype": "text/x-python",
   "name": "python",
   "nbconvert_exporter": "python",
   "pygments_lexer": "ipython3",
   "version": "3.7.12"
  }
 },
 "nbformat": 4,
 "nbformat_minor": 5
}
